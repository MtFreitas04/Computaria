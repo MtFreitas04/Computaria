{
  "nbformat": 4,
  "nbformat_minor": 0,
  "metadata": {
    "colab": {
      "provenance": [],
      "authorship_tag": "ABX9TyP7gegEyFiIISLyDj6cB/CK",
      "include_colab_link": true
    },
    "kernelspec": {
      "name": "python3",
      "display_name": "Python 3"
    },
    "language_info": {
      "name": "python"
    }
  },
  "cells": [
    {
      "cell_type": "markdown",
      "metadata": {
        "id": "view-in-github",
        "colab_type": "text"
      },
      "source": [
        "<a href=\"https://colab.research.google.com/github/MtFreitas04/Computaria/blob/main/Computaria1_0.ipynb\" target=\"_parent\"><img src=\"https://colab.research.google.com/assets/colab-badge.svg\" alt=\"Open In Colab\"/></a>"
      ]
    },
    {
      "cell_type": "markdown",
      "source": [
        "Meu primeiro programa na vida de computaria"
      ],
      "metadata": {
        "id": "PyAhJCksef-X"
      }
    },
    {
      "cell_type": "code",
      "source": [],
      "metadata": {
        "id": "VUgV7uyKer7Y"
      },
      "execution_count": null,
      "outputs": []
    }
  ]
}