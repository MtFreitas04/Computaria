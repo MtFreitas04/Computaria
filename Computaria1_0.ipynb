{
  "nbformat": 4,
  "nbformat_minor": 0,
  "metadata": {
    "colab": {
      "provenance": [],
      "authorship_tag": "ABX9TyPTXH5vuXqlGkM4oc6P++H0",
      "include_colab_link": true
    },
    "kernelspec": {
      "name": "python3",
      "display_name": "Python 3"
    },
    "language_info": {
      "name": "python"
    }
  },
  "cells": [
    {
      "cell_type": "markdown",
      "metadata": {
        "id": "view-in-github",
        "colab_type": "text"
      },
      "source": [
        "<a href=\"https://colab.research.google.com/github/MtFreitas04/Computaria/blob/main/Computaria1_0.ipynb\" target=\"_parent\"><img src=\"https://colab.research.google.com/assets/colab-badge.svg\" alt=\"Open In Colab\"/></a>"
      ]
    },
    {
      "cell_type": "markdown",
      "source": [
        "Meu primeiro programa na vida de computaria"
      ],
      "metadata": {
        "id": "PyAhJCksef-X"
      }
    },
    {
      "cell_type": "code",
      "source": [
        "a = 2\n",
        "print(type (a))\n",
        "b = 3.5\n",
        "print(type (b))\n",
        "soma = a+b\n",
        "print(type (soma))\n",
        "print(soma)"
      ],
      "metadata": {
        "colab": {
          "base_uri": "https://localhost:8080/"
        },
        "id": "JILf3hCCfQzc",
        "outputId": "9d63eb80-ddce-4886-d660-a7e9570d560d"
      },
      "execution_count": 15,
      "outputs": [
        {
          "output_type": "stream",
          "name": "stdout",
          "text": [
            "<class 'int'>\n",
            "<class 'float'>\n",
            "<class 'float'>\n",
            "5.5\n"
          ]
        }
      ]
    },
    {
      "cell_type": "code",
      "source": [
        "#Descobra se números são pares\n",
        "num = int(input(\"Insira um numero: \"))\n",
        "print(type(num))\n",
        "quoc = num//2\n",
        "resto = num%2\n",
        "print(\"Quociente=\", quoc)\n",
        "print(\"Resto= \", resto)\n"
      ],
      "metadata": {
        "colab": {
          "base_uri": "https://localhost:8080/"
        },
        "id": "_FjW_E7oh539",
        "outputId": "e779e515-9c86-4f54-fa6a-f5f5a02c08b7"
      },
      "execution_count": 20,
      "outputs": [
        {
          "output_type": "stream",
          "name": "stdout",
          "text": [
            "Insira um numero: 58\n",
            "<class 'int'>\n",
            "Quociente= 29\n",
            "Resto=  0\n"
          ]
        }
      ]
    },
    {
      "cell_type": "code",
      "source": [
        "#Cálculo de média]\n",
        "n1 = int(input(\"insira a NOTA 1: \"))\n",
        "n2 = int(input(\"insira a NOTA 2: \"))\n",
        "media = (n1+n2)/2\n",
        "print(media)"
      ],
      "metadata": {
        "colab": {
          "base_uri": "https://localhost:8080/"
        },
        "id": "Zd5UMY8_jGYN",
        "outputId": "93cb8ff7-ae74-4ebd-c5fc-228ebaa40de2"
      },
      "execution_count": 21,
      "outputs": [
        {
          "output_type": "stream",
          "name": "stdout",
          "text": [
            "insira a NOTA 1: 8\n",
            "insira a NOTA 2: 7\n",
            "7.5\n"
          ]
        }
      ]
    },
    {
      "cell_type": "markdown",
      "source": [
        "A aula acabou, agora começa o terror...\n",
        "**PROGRAME SOZINHO!!!!!**"
      ],
      "metadata": {
        "id": "WdZ451i_kS_0"
      }
    },
    {
      "cell_type": "code",
      "source": [],
      "metadata": {
        "id": "fx38lhnwkdkd"
      },
      "execution_count": null,
      "outputs": []
    }
  ]
}